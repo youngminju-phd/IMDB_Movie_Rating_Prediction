{
 "cells": [
  {
   "cell_type": "code",
   "execution_count": 1,
   "metadata": {},
   "outputs": [],
   "source": [
    "import os, pickle\n",
    "import pandas as pd\n",
    "import numpy as np\n",
    "from sklearn.metrics import *\n",
    "from xgboost import XGBRegressor\n",
    "from sklearn.ensemble import RandomForestRegressor\n",
    "from sklearn.linear_model import LinearRegression\n",
    "\n",
    "# Suppress warnings\n",
    "import warnings\n",
    "warnings.filterwarnings(\"ignore\")"
   ]
  },
  {
   "cell_type": "code",
   "execution_count": 2,
   "metadata": {},
   "outputs": [],
   "source": [
    "DATA_DIR = '..\\\\data\\\\raw'\n",
    "INTERIM_DIR = '..\\\\data\\\\interim'\n",
    "FINAL_DIR = '..\\\\data\\\\final'\n",
    "MODELS_DIR = '..\\\\models'"
   ]
  },
  {
   "cell_type": "markdown",
   "metadata": {},
   "source": [
    "### Read data files"
   ]
  },
  {
   "cell_type": "code",
   "execution_count": 3,
   "metadata": {},
   "outputs": [],
   "source": [
    "train_set = pd.read_csv(os.path.join(FINAL_DIR, 'train_set.csv'))\n",
    "test_set = pd.read_csv(os.path.join(FINAL_DIR, 'test_set.csv'))"
   ]
  },
  {
   "cell_type": "code",
   "execution_count": 4,
   "metadata": {},
   "outputs": [
    {
     "data": {
      "text/plain": [
       "Index(['isAdult', 'startYear', 'runtimeMinutes', 'averageRating', 'numVotes',\n",
       "       'pi_mean_mean', 'pi_mean_std', 'pi_med_mean', 'pi_med_std',\n",
       "       'pi_std_mean', 'pi_std_std', 'Action', 'Adult', 'Adventure',\n",
       "       'Animation', 'Biography', 'Comedy', 'Crime', 'Documentary', 'Drama',\n",
       "       'Family', 'Fantasy', 'Film-Noir', 'Game-Show', 'History', 'Horror',\n",
       "       'Music', 'Musical', 'Mystery', 'News', 'Reality-TV', 'Romance',\n",
       "       'Sci-Fi', 'Short', 'Sport', 'Talk-Show', 'Thriller', 'War', 'Western'],\n",
       "      dtype='object')"
      ]
     },
     "execution_count": 4,
     "metadata": {},
     "output_type": "execute_result"
    }
   ],
   "source": [
    "train_set.columns"
   ]
  },
  {
   "cell_type": "code",
   "execution_count": 5,
   "metadata": {},
   "outputs": [
    {
     "name": "stdout",
     "output_type": "stream",
     "text": [
      "Shape of array is : (185439, 37)\n",
      "Shape of array is : (79480, 37)\n",
      "Shape of array is : (185439, 1)\n",
      "Shape of array is : (79480, 1)\n"
     ]
    }
   ],
   "source": [
    "train_y = train_set['averageRating'].values.reshape(-1,1)\n",
    "test_y = test_set['averageRating'].values.reshape(-1,1)\n",
    "\n",
    "del train_set['averageRating']\n",
    "del test_set['averageRating']\n",
    "\n",
    "# In my opinion we cannot use numvotes as this feature would not be available for future movies\n",
    "del train_set['numVotes']\n",
    "del test_set['numVotes']\n",
    "\n",
    "train_X = train_set.values\n",
    "test_X = test_set.values\n",
    "\n",
    "for array in [train_X, test_X, train_y, test_y]:\n",
    "    \n",
    "    print('Shape of array is : {}'.format(array.shape))"
   ]
  },
  {
   "cell_type": "markdown",
   "metadata": {},
   "source": [
    "#### Fitting the XGBoost regressor "
   ]
  },
  {
   "cell_type": "code",
   "execution_count": 6,
   "metadata": {},
   "outputs": [],
   "source": [
    "def evaluate_regression_model(model, \n",
    "                              X_train=train_X, y_train=train_y, \n",
    "                              X_test=test_X, y_test=test_y):\n",
    "    '''\n",
    "    Calculates and prints metrics for the model\n",
    "    '''\n",
    "    print(\"#\"*50+\"Train set Results\"+\"#\"*50)\n",
    "    \n",
    "    y_pred = model.predict(X_train)\n",
    "    r2_error = r2_score(y_train, y_pred)\n",
    "    print(\"R2 score: {}\".format(r2_error))\n",
    "    \n",
    "    print(\"\\n\"+\"#\"*50+\"Test set Results\"+\"#\"*50)\n",
    "    \n",
    "    y_pred = model.predict(X_test)\n",
    "    r2_error = r2_score(y_test, y_pred)\n",
    "    print(\"R2 score: {}\".format(r2_error))\n",
    "    \n",
    "    print(\"#\"*120)\n",
    "    "
   ]
  },
  {
   "cell_type": "code",
   "execution_count": 7,
   "metadata": {},
   "outputs": [],
   "source": [
    "def save_model(model, filename):\n",
    "    '''\n",
    "    Saves trained models to Models directory for later use\n",
    "    '''\n",
    "    with open(os.path.join(MODELS_DIR, filename), 'wb') as f:\n",
    "        pickle.dump(model, f)"
   ]
  },
  {
   "cell_type": "code",
   "execution_count": 8,
   "metadata": {},
   "outputs": [
    {
     "name": "stdout",
     "output_type": "stream",
     "text": [
      "##################################################Train set Results##################################################\n",
      "R2 score: 0.7034459079078683\n",
      "\n",
      "##################################################Test set Results##################################################\n",
      "R2 score: 0.6631668025639121\n",
      "########################################################################################################################\n"
     ]
    }
   ],
   "source": [
    "xgb_model = XGBRegressor(n_jobs=-1)\n",
    "xgb_model.fit(train_X, train_y)\n",
    "evaluate_regression_model(xgb_model)"
   ]
  },
  {
   "cell_type": "code",
   "execution_count": 9,
   "metadata": {},
   "outputs": [],
   "source": [
    "save_model(xgb_model, 'vanilla_xgb.pkl')"
   ]
  },
  {
   "cell_type": "code",
   "execution_count": 10,
   "metadata": {},
   "outputs": [
    {
     "name": "stdout",
     "output_type": "stream",
     "text": [
      "##################################################Train set Results##################################################\n",
      "R2 score: 0.9512853635787828\n",
      "\n",
      "##################################################Test set Results##################################################\n",
      "R2 score: 0.654231694976209\n",
      "########################################################################################################################\n"
     ]
    }
   ],
   "source": [
    "rf_model = RandomForestRegressor(n_jobs=-1)\n",
    "rf_model.fit(train_X, train_y)\n",
    "evaluate_regression_model(rf_model)"
   ]
  },
  {
   "cell_type": "code",
   "execution_count": 11,
   "metadata": {},
   "outputs": [],
   "source": [
    "save_model(xgb_model, 'vanilla_rf.pkl')"
   ]
  },
  {
   "cell_type": "code",
   "execution_count": 12,
   "metadata": {},
   "outputs": [
    {
     "name": "stdout",
     "output_type": "stream",
     "text": [
      "##################################################Train set Results##################################################\n",
      "R2 score: 0.5014457975664124\n",
      "\n",
      "##################################################Test set Results##################################################\n",
      "R2 score: 0.5091145805225719\n",
      "########################################################################################################################\n"
     ]
    }
   ],
   "source": [
    "lr_model = LinearRegression(n_jobs=-1)\n",
    "lr_model.fit(train_X, train_y)\n",
    "evaluate_regression_model(lr_model)"
   ]
  },
  {
   "cell_type": "code",
   "execution_count": 13,
   "metadata": {},
   "outputs": [],
   "source": [
    "save_model(lr_model, \"vanilla_lr.pkl\")"
   ]
  },
  {
   "cell_type": "markdown",
   "metadata": {},
   "source": [
    "### Manually changing parameters"
   ]
  },
  {
   "cell_type": "code",
   "execution_count": 14,
   "metadata": {},
   "outputs": [
    {
     "name": "stdout",
     "output_type": "stream",
     "text": [
      "##################################################Train set Results##################################################\n",
      "R2 score: 0.807983056608621\n",
      "\n",
      "##################################################Test set Results##################################################\n",
      "R2 score: 0.6502518069212846\n",
      "########################################################################################################################\n"
     ]
    }
   ],
   "source": [
    "xgb_model = XGBRegressor(max_depth=10, n_jobs=-1)\n",
    "\n",
    "xgb_model.fit(train_X, train_y)\n",
    "evaluate_regression_model(xgb_model)"
   ]
  },
  {
   "cell_type": "code",
   "execution_count": 15,
   "metadata": {},
   "outputs": [
    {
     "name": "stdout",
     "output_type": "stream",
     "text": [
      "##################################################Train set Results##################################################\n",
      "R2 score: 0.6714511021272971\n",
      "\n",
      "##################################################Test set Results##################################################\n",
      "R2 score: 0.6590955940040311\n",
      "########################################################################################################################\n"
     ]
    }
   ],
   "source": [
    "xgb_model = XGBRegressor(max_depth=4, n_jobs=-1)\n",
    "\n",
    "xgb_model.fit(train_X, train_y)\n",
    "evaluate_regression_model(xgb_model)"
   ]
  },
  {
   "cell_type": "code",
   "execution_count": 16,
   "metadata": {},
   "outputs": [
    {
     "name": "stdout",
     "output_type": "stream",
     "text": [
      "##################################################Train set Results##################################################\n",
      "R2 score: 0.7019585115453526\n",
      "\n",
      "##################################################Test set Results##################################################\n",
      "R2 score: 0.6619330271533119\n",
      "########################################################################################################################\n"
     ]
    }
   ],
   "source": [
    "xgb_model = XGBRegressor(subsample=0.8, n_jobs=-1)\n",
    "\n",
    "xgb_model.fit(train_X, train_y)\n",
    "evaluate_regression_model(xgb_model)"
   ]
  },
  {
   "cell_type": "markdown",
   "metadata": {},
   "source": [
    "## Conclusions:\n",
    "\n",
    "1. Our best XGBoost model has an accuracy of 66% on the test set.\n",
    "2. Its performance on the training set of 70% suggests overfitting.\n",
    "\n",
    "However, XGBoost, as per the paper describing it, is designed to be robust against overfitting. \n",
    "Following options are available for further exploration:\n",
    " - Changing parameters of the estimator (worked to some extent in this notebook)\n",
    " - Artificial Neural Networks and other algorithms \n",
    " - Other Ensemble of estimators (Bagging, Boosting, Stacking)\n",
    " - Analyzing features and whether they are misleading the model in some way because we have detected spurious behavior in the popularity index."
   ]
  }
 ],
 "metadata": {
  "kernelspec": {
   "display_name": "Python 3 (ipykernel)",
   "language": "python",
   "name": "python3"
  },
  "language_info": {
   "codemirror_mode": {
    "name": "ipython",
    "version": 3
   },
   "file_extension": ".py",
   "mimetype": "text/x-python",
   "name": "python",
   "nbconvert_exporter": "python",
   "pygments_lexer": "ipython3",
   "version": "3.9.7"
  }
 },
 "nbformat": 4,
 "nbformat_minor": 4
}
